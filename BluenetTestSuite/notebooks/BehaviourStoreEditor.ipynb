{
 "cells": [
  {
   "cell_type": "code",
   "execution_count": 7,
   "metadata": {},
   "outputs": [],
   "source": [
    "\"\"\"\n",
    "Load a BehaviourStore setup json and interactively edit it.\n",
    "\"\"\"\n",
    "#fom BluenetTestSuite import ...\n",
    "from ipywidgets import Layout, FloatRangeSlider, Accordion, VBox, HBox, BoundedIntText, Button\n",
    "from IPython.display import display, HTML"
   ]
  },
  {
   "cell_type": "code",
   "execution_count": 56,
   "metadata": {},
   "outputs": [],
   "source": [
    "def BehaviourDetailsWidgets():\n",
    "    indexfield = BoundedIntText(\n",
    "        value=7,\n",
    "        min=0,\n",
    "        max=49,\n",
    "        step=1,\n",
    "    #     description='',\n",
    "        disabled=False,\n",
    "        layout=Layout(width='5%')\n",
    "    )\n",
    "\n",
    "    fromuntilfield = FloatRangeSlider(\n",
    "        value=[9*60*60, 18*60*60],\n",
    "        min=0,\n",
    "        max=24*60*60,\n",
    "        step=0.1,\n",
    "    #     description='',\n",
    "        disabled=False,\n",
    "        continuous_update=False,\n",
    "        orientation='horizontal',\n",
    "        readout=False,\n",
    "        readout_format='.1f',\n",
    "        layout=Layout(width='75%')\n",
    "    )\n",
    "\n",
    "    deletebutton = Button(\n",
    "        description='Delete',\n",
    "        disabled=False,\n",
    "        button_style='', # 'success', 'info', 'warning', 'danger' or ''\n",
    "        tooltip='Click me',\n",
    "        icon='check',\n",
    "        layout=Layout(width='10%')\n",
    "    )\n",
    "    deletebutton.style.button_color = 'red'\n",
    "    \n",
    "     editbutton = Button(\n",
    "        description='Edit',\n",
    "        disabled=False,\n",
    "        button_style='', # 'success', 'info', 'warning', 'danger' or ''\n",
    "        tooltip='Click me',\n",
    "        icon='check',\n",
    "        layout=Layout(width='10%')\n",
    "    )\n",
    "    editbutton.style.button_color = 'lightblue'\n",
    "\n",
    "    boxlayout = Layout(overflow='scroll',\n",
    "                        border='1px solid black',\n",
    "                        color='blue',\n",
    "                        width='100%',\n",
    "                        height='',\n",
    "                        margin='5px 5px 0 0',\n",
    "                        flex_flow='row',\n",
    "                        display='stretch')\n",
    "\n",
    "    return HBox(children = [indexfield, fromuntilfield, deletebutton, editbutton], layout = boxlayout)"
   ]
  },
  {
   "cell_type": "code",
   "execution_count": 57,
   "metadata": {},
   "outputs": [
    {
     "data": {
      "application/vnd.jupyter.widget-view+json": {
       "model_id": "506fd01d414347b28d5c04e9d4dad067"
      }
     },
     "metadata": {},
     "output_type": "display_data"
    }
   ],
   "source": [
    "VBox([BehaviourDetailsWidgets() for i in range(3)])"
   ]
  },
  {
   "cell_type": "code",
   "execution_count": null,
   "metadata": {},
   "outputs": [],
   "source": []
  }
 ],
 "metadata": {
  "kernelspec": {
   "display_name": "Python 3",
   "language": "python",
   "name": "python3"
  },
  "language_info": {
   "codemirror_mode": {
    "name": "ipython",
    "version": 3
   },
   "file_extension": ".py",
   "mimetype": "text/x-python",
   "name": "python",
   "nbconvert_exporter": "python",
   "pygments_lexer": "ipython3",
   "version": "3.7.5"
  }
 },
 "nbformat": 4,
 "nbformat_minor": 2
}
