{
 "cells": [
  {
   "cell_type": "code",
   "execution_count": 1,
   "metadata": {},
   "outputs": [],
   "source": [
    "\"\"\"\n",
    "Load a BehaviourStore setup json and interactively edit it.\n",
    "\"\"\"\n",
    "#fom BluenetTestSuite import ...\n",
    "from ipywidgets import Layout, FloatRangeSlider, Accordion, VBox, HBox, BoundedIntText, Button, ToggleButtons, FloatText\n",
    "from IPython.display import display, HTML"
   ]
  },
  {
   "cell_type": "code",
   "execution_count": 60,
   "metadata": {},
   "outputs": [],
   "source": [
    "def BehaviourSummaryWidgets():\n",
    "    \"\"\"\n",
    "    Returns list of widgets for single line description of a behaviour\n",
    "    \"\"\"\n",
    "\n",
    "def BehaviourDetailsWidgets(width_str):\n",
    "    \"\"\"\n",
    "    Returns list of widgets for multi line description of a behaviour\n",
    "    \"\"\"\n",
    "    typefield = ToggleButtons(\n",
    "        options=['Switch', 'ExtendedSwitch', 'Twilight'],\n",
    "        description='Type:',\n",
    "        disabled=False,\n",
    "        button_style='info',\n",
    "        layout=Layout(width='100%')\n",
    "    )\n",
    "    \n",
    "    fromuntilfield = FloatRangeSlider(\n",
    "        value=[9*60*60, 18*60*60],\n",
    "        min=0,\n",
    "        max=24*60*60,\n",
    "        step=0.1,\n",
    "        disabled=False,\n",
    "        continuous_update=False,\n",
    "        orientation='horizontal',\n",
    "        readout=False,\n",
    "        readout_format='.1f',\n",
    "        layout=Layout(width='100%')\n",
    "    )\n",
    "    \n",
    "    fromfield = FloatText(\n",
    "        value=9*60*60,\n",
    "        description='From:',\n",
    "        disabled=False\n",
    "    )\n",
    "    untilfield = FloatText(\n",
    "        value=18*60*60,\n",
    "        description='Until:',\n",
    "        disabled=False\n",
    "    )\n",
    "    \n",
    "    return VBox([typefield, fromuntilfield, fromfield, untilfield], layout=Layout(width=width_str))\n",
    "\n",
    "def BehaviourToolbarWidgets(width_str):\n",
    "    editbutton = Button(\n",
    "        tooltip='Edit',\n",
    "        disabled=False,\n",
    "        icon='fa-pencil',\n",
    "        layout=Layout(width='100%')\n",
    "    )\n",
    "    \n",
    "    deletebutton = Button(\n",
    "        tooltip='Delete',\n",
    "        disabled=False,\n",
    "        icon='fa-trash-o',\n",
    "        layout=Layout(width='100%')\n",
    "    )\n",
    "    \n",
    "    savebutton = Button(\n",
    "        tooltip='Save',\n",
    "        disabled=False,\n",
    "        icon='fa-floppy-o',\n",
    "        layout=Layout(width='100%')\n",
    "    )\n",
    "    \n",
    "    savebutton.on_click\n",
    "    \n",
    "    return VBox([editbutton, savebutton, deletebutton], layout=Layout(width=width_str, margin='5px'))\n",
    "    \n",
    "def BehaviourMetaDataWidgets(width_str):\n",
    "    indexfield = BoundedIntText(\n",
    "        value=0,\n",
    "        min=0,\n",
    "        max=49,\n",
    "        step=1,\n",
    "        tooltip=\"index in behaviourstore\",\n",
    "        disabled=False,\n",
    "        layout=Layout(width='100%')\n",
    "    )\n",
    "    \n",
    "    return VBox([indexfield], layout=Layout(width=width_str))\n",
    "    \n",
    "def BehaviourEntryWidgets():\n",
    "    \"\"\"\n",
    "    Returns HBox for Behaviour with additional meta-operations\n",
    "    \"\"\"\n",
    "    boxlayout = Layout(overflow='scroll',\n",
    "#                         border='1px solid black',\n",
    "#                         width='100%',\n",
    "                        height='',\n",
    "                        margin='15px 15px 0 0',\n",
    "                        flex_flow='row',\n",
    "                        display='stretch')\n",
    "\n",
    "    return HBox(children = [\n",
    "            BehaviourMetaDataWidgets('5%'),\n",
    "            BehaviourDetailsWidgets('90%'),\n",
    "            BehaviourToolbarWidgets('5%')\n",
    "           ], \n",
    "        layout = boxlayout)"
   ]
  },
  {
   "cell_type": "code",
   "execution_count": 61,
   "metadata": {},
   "outputs": [
    {
     "name": "stderr",
     "output_type": "stream",
     "text": [
      "Widget Javascript not detected.  It may not be installed or enabled properly.\n"
     ]
    },
    {
     "data": {
      "application/vnd.jupyter.widget-view+json": {
       "model_id": "c65fd3100f774001b450fdda072c3d63"
      }
     },
     "metadata": {},
     "output_type": "display_data"
    }
   ],
   "source": [
    "VBox([BehaviourEntryWidgets() for i in range(3)])"
   ]
  },
  {
   "cell_type": "code",
   "execution_count": null,
   "metadata": {},
   "outputs": [],
   "source": []
  }
 ],
 "metadata": {
  "kernelspec": {
   "display_name": "Python 3",
   "language": "python",
   "name": "python3"
  },
  "language_info": {
   "codemirror_mode": {
    "name": "ipython",
    "version": 3
   },
   "file_extension": ".py",
   "mimetype": "text/x-python",
   "name": "python",
   "nbconvert_exporter": "python",
   "pygments_lexer": "ipython3",
   "version": "3.7.5"
  }
 },
 "nbformat": 4,
 "nbformat_minor": 2
}
